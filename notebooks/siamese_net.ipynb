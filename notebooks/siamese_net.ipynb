{
 "cells": [
  {
   "cell_type": "code",
   "execution_count": 2,
   "metadata": {},
   "outputs": [],
   "source": [
    "import numpy as np\n",
    "import tensorflow as tf\n",
    "from tensorflow import keras\n",
    "from tensorflow.keras import layers\n",
    "import matplotlib.pyplot as plt\n",
    "import cv2\n",
    "import datetime\n",
    "from tensorflow.keras.utils import plot_model\n",
    "from IPython.display import Image, display\n",
    "from tensorflow.keras.callbacks import EarlyStopping, ReduceLROnPlateau, ModelCheckpoint"
   ]
  },
  {
   "cell_type": "code",
   "execution_count": 3,
   "metadata": {},
   "outputs": [
    {
     "name": "stdout",
     "output_type": "stream",
     "text": [
      "Pares de entrenamiento: (108400, 2, 28, 28, 1) Etiquetas: (108400,)\n",
      "Pares de test: (17820, 2, 28, 28, 1) Etiquetas: (17820,)\n"
     ]
    }
   ],
   "source": [
    "# 1. Preparar el dataset: Cargar MNIST y crear pares (positivos y negativos)\n",
    "def load_mnist_data():\n",
    "    (x_train, y_train), (x_test, y_test) = keras.datasets.mnist.load_data()\n",
    "    # Normalizar y expandir dimensión de canal (28,28) -> (28,28,1)\n",
    "    x_train = np.expand_dims(x_train.astype(\"float32\") / 255.0, -1)\n",
    "    x_test = np.expand_dims(x_test.astype(\"float32\") / 255.0, -1)\n",
    "    return (x_train, y_train), (x_test, y_test)\n",
    "\n",
    "def create_pairs(x, y):\n",
    "    \"\"\"Crea pares de imágenes y sus etiquetas.\n",
    "       Para cada dígito se generan pares positivos consecutivos y un par negativo (con dígitos distintos).\"\"\"\n",
    "    pairs = []\n",
    "    labels = []\n",
    "    # índices por cada dígito\n",
    "    digit_indices = [np.where(y == i)[0] for i in range(10)]\n",
    "    n_min = min([len(digit_indices[d]) for d in range(10)]) - 1\n",
    "    for d in range(10):\n",
    "        for i in range(n_min):\n",
    "            # par positivo (misma clase)\n",
    "            z1, z2 = digit_indices[d][i], digit_indices[d][i+1]\n",
    "            pairs.append([x[z1], x[z2]])\n",
    "            labels.append(1)\n",
    "            # par negativo (clase distinta)\n",
    "            # se elige una clase aleatoria diferente\n",
    "            inc = np.random.randint(1, 10)\n",
    "            d2 = (d + inc) % 10\n",
    "            z1, z2 = digit_indices[d][i], digit_indices[d2][i]\n",
    "            pairs.append([x[z1], x[z2]])\n",
    "            labels.append(0)\n",
    "    return np.array(pairs), np.array(labels)\n",
    "\n",
    "# Cargar y preparar datos\n",
    "(x_train, y_train), (x_test, y_test) = load_mnist_data()\n",
    "train_pairs, train_labels = create_pairs(x_train, y_train)\n",
    "test_pairs, test_labels = create_pairs(x_test, y_test)\n",
    "\n",
    "print(\"Pares de entrenamiento:\", train_pairs.shape, \"Etiquetas:\", train_labels.shape)\n",
    "print(\"Pares de test:\", test_pairs.shape, \"Etiquetas:\", test_labels.shape)"
   ]
  },
  {
   "cell_type": "markdown",
   "metadata": {},
   "source": [
    "## Modelo basado en embeddings"
   ]
  },
  {
   "cell_type": "code",
   "execution_count": 6,
   "metadata": {},
   "outputs": [
    {
     "data": {
      "text/html": [
       "<pre style=\"white-space:pre;overflow-x:auto;line-height:normal;font-family:Menlo,'DejaVu Sans Mono',consolas,'Courier New',monospace\"><span style=\"font-weight: bold\">Model: \"base_network\"</span>\n",
       "</pre>\n"
      ],
      "text/plain": [
       "\u001b[1mModel: \"base_network\"\u001b[0m\n"
      ]
     },
     "metadata": {},
     "output_type": "display_data"
    },
    {
     "data": {
      "text/html": [
       "<pre style=\"white-space:pre;overflow-x:auto;line-height:normal;font-family:Menlo,'DejaVu Sans Mono',consolas,'Courier New',monospace\">┏━━━━━━━━━━━━━━━━━━━━━━━━━━━━━━━━━┳━━━━━━━━━━━━━━━━━━━━━━━━┳━━━━━━━━━━━━━━━┓\n",
       "┃<span style=\"font-weight: bold\"> Layer (type)                    </span>┃<span style=\"font-weight: bold\"> Output Shape           </span>┃<span style=\"font-weight: bold\">       Param # </span>┃\n",
       "┡━━━━━━━━━━━━━━━━━━━━━━━━━━━━━━━━━╇━━━━━━━━━━━━━━━━━━━━━━━━╇━━━━━━━━━━━━━━━┩\n",
       "│ input_layer_1 (<span style=\"color: #0087ff; text-decoration-color: #0087ff\">InputLayer</span>)      │ (<span style=\"color: #00d7ff; text-decoration-color: #00d7ff\">None</span>, <span style=\"color: #00af00; text-decoration-color: #00af00\">28</span>, <span style=\"color: #00af00; text-decoration-color: #00af00\">28</span>, <span style=\"color: #00af00; text-decoration-color: #00af00\">1</span>)      │             <span style=\"color: #00af00; text-decoration-color: #00af00\">0</span> │\n",
       "├─────────────────────────────────┼────────────────────────┼───────────────┤\n",
       "│ conv1 (<span style=\"color: #0087ff; text-decoration-color: #0087ff\">Conv2D</span>)                  │ (<span style=\"color: #00d7ff; text-decoration-color: #00d7ff\">None</span>, <span style=\"color: #00af00; text-decoration-color: #00af00\">26</span>, <span style=\"color: #00af00; text-decoration-color: #00af00\">26</span>, <span style=\"color: #00af00; text-decoration-color: #00af00\">32</span>)     │           <span style=\"color: #00af00; text-decoration-color: #00af00\">320</span> │\n",
       "├─────────────────────────────────┼────────────────────────┼───────────────┤\n",
       "│ max_pooling2d_2 (<span style=\"color: #0087ff; text-decoration-color: #0087ff\">MaxPooling2D</span>)  │ (<span style=\"color: #00d7ff; text-decoration-color: #00d7ff\">None</span>, <span style=\"color: #00af00; text-decoration-color: #00af00\">13</span>, <span style=\"color: #00af00; text-decoration-color: #00af00\">13</span>, <span style=\"color: #00af00; text-decoration-color: #00af00\">32</span>)     │             <span style=\"color: #00af00; text-decoration-color: #00af00\">0</span> │\n",
       "├─────────────────────────────────┼────────────────────────┼───────────────┤\n",
       "│ conv2 (<span style=\"color: #0087ff; text-decoration-color: #0087ff\">Conv2D</span>)                  │ (<span style=\"color: #00d7ff; text-decoration-color: #00d7ff\">None</span>, <span style=\"color: #00af00; text-decoration-color: #00af00\">11</span>, <span style=\"color: #00af00; text-decoration-color: #00af00\">11</span>, <span style=\"color: #00af00; text-decoration-color: #00af00\">64</span>)     │        <span style=\"color: #00af00; text-decoration-color: #00af00\">18,496</span> │\n",
       "├─────────────────────────────────┼────────────────────────┼───────────────┤\n",
       "│ max_pooling2d_3 (<span style=\"color: #0087ff; text-decoration-color: #0087ff\">MaxPooling2D</span>)  │ (<span style=\"color: #00d7ff; text-decoration-color: #00d7ff\">None</span>, <span style=\"color: #00af00; text-decoration-color: #00af00\">5</span>, <span style=\"color: #00af00; text-decoration-color: #00af00\">5</span>, <span style=\"color: #00af00; text-decoration-color: #00af00\">64</span>)       │             <span style=\"color: #00af00; text-decoration-color: #00af00\">0</span> │\n",
       "├─────────────────────────────────┼────────────────────────┼───────────────┤\n",
       "│ flatten_1 (<span style=\"color: #0087ff; text-decoration-color: #0087ff\">Flatten</span>)             │ (<span style=\"color: #00d7ff; text-decoration-color: #00d7ff\">None</span>, <span style=\"color: #00af00; text-decoration-color: #00af00\">1600</span>)           │             <span style=\"color: #00af00; text-decoration-color: #00af00\">0</span> │\n",
       "├─────────────────────────────────┼────────────────────────┼───────────────┤\n",
       "│ dense_1 (<span style=\"color: #0087ff; text-decoration-color: #0087ff\">Dense</span>)                 │ (<span style=\"color: #00d7ff; text-decoration-color: #00d7ff\">None</span>, <span style=\"color: #00af00; text-decoration-color: #00af00\">128</span>)            │       <span style=\"color: #00af00; text-decoration-color: #00af00\">204,928</span> │\n",
       "├─────────────────────────────────┼────────────────────────┼───────────────┤\n",
       "│ embeddings (<span style=\"color: #0087ff; text-decoration-color: #0087ff\">Lambda</span>)             │ (<span style=\"color: #00d7ff; text-decoration-color: #00d7ff\">None</span>, <span style=\"color: #00af00; text-decoration-color: #00af00\">128</span>)            │             <span style=\"color: #00af00; text-decoration-color: #00af00\">0</span> │\n",
       "└─────────────────────────────────┴────────────────────────┴───────────────┘\n",
       "</pre>\n"
      ],
      "text/plain": [
       "┏━━━━━━━━━━━━━━━━━━━━━━━━━━━━━━━━━┳━━━━━━━━━━━━━━━━━━━━━━━━┳━━━━━━━━━━━━━━━┓\n",
       "┃\u001b[1m \u001b[0m\u001b[1mLayer (type)                   \u001b[0m\u001b[1m \u001b[0m┃\u001b[1m \u001b[0m\u001b[1mOutput Shape          \u001b[0m\u001b[1m \u001b[0m┃\u001b[1m \u001b[0m\u001b[1m      Param #\u001b[0m\u001b[1m \u001b[0m┃\n",
       "┡━━━━━━━━━━━━━━━━━━━━━━━━━━━━━━━━━╇━━━━━━━━━━━━━━━━━━━━━━━━╇━━━━━━━━━━━━━━━┩\n",
       "│ input_layer_1 (\u001b[38;5;33mInputLayer\u001b[0m)      │ (\u001b[38;5;45mNone\u001b[0m, \u001b[38;5;34m28\u001b[0m, \u001b[38;5;34m28\u001b[0m, \u001b[38;5;34m1\u001b[0m)      │             \u001b[38;5;34m0\u001b[0m │\n",
       "├─────────────────────────────────┼────────────────────────┼───────────────┤\n",
       "│ conv1 (\u001b[38;5;33mConv2D\u001b[0m)                  │ (\u001b[38;5;45mNone\u001b[0m, \u001b[38;5;34m26\u001b[0m, \u001b[38;5;34m26\u001b[0m, \u001b[38;5;34m32\u001b[0m)     │           \u001b[38;5;34m320\u001b[0m │\n",
       "├─────────────────────────────────┼────────────────────────┼───────────────┤\n",
       "│ max_pooling2d_2 (\u001b[38;5;33mMaxPooling2D\u001b[0m)  │ (\u001b[38;5;45mNone\u001b[0m, \u001b[38;5;34m13\u001b[0m, \u001b[38;5;34m13\u001b[0m, \u001b[38;5;34m32\u001b[0m)     │             \u001b[38;5;34m0\u001b[0m │\n",
       "├─────────────────────────────────┼────────────────────────┼───────────────┤\n",
       "│ conv2 (\u001b[38;5;33mConv2D\u001b[0m)                  │ (\u001b[38;5;45mNone\u001b[0m, \u001b[38;5;34m11\u001b[0m, \u001b[38;5;34m11\u001b[0m, \u001b[38;5;34m64\u001b[0m)     │        \u001b[38;5;34m18,496\u001b[0m │\n",
       "├─────────────────────────────────┼────────────────────────┼───────────────┤\n",
       "│ max_pooling2d_3 (\u001b[38;5;33mMaxPooling2D\u001b[0m)  │ (\u001b[38;5;45mNone\u001b[0m, \u001b[38;5;34m5\u001b[0m, \u001b[38;5;34m5\u001b[0m, \u001b[38;5;34m64\u001b[0m)       │             \u001b[38;5;34m0\u001b[0m │\n",
       "├─────────────────────────────────┼────────────────────────┼───────────────┤\n",
       "│ flatten_1 (\u001b[38;5;33mFlatten\u001b[0m)             │ (\u001b[38;5;45mNone\u001b[0m, \u001b[38;5;34m1600\u001b[0m)           │             \u001b[38;5;34m0\u001b[0m │\n",
       "├─────────────────────────────────┼────────────────────────┼───────────────┤\n",
       "│ dense_1 (\u001b[38;5;33mDense\u001b[0m)                 │ (\u001b[38;5;45mNone\u001b[0m, \u001b[38;5;34m128\u001b[0m)            │       \u001b[38;5;34m204,928\u001b[0m │\n",
       "├─────────────────────────────────┼────────────────────────┼───────────────┤\n",
       "│ embeddings (\u001b[38;5;33mLambda\u001b[0m)             │ (\u001b[38;5;45mNone\u001b[0m, \u001b[38;5;34m128\u001b[0m)            │             \u001b[38;5;34m0\u001b[0m │\n",
       "└─────────────────────────────────┴────────────────────────┴───────────────┘\n"
      ]
     },
     "metadata": {},
     "output_type": "display_data"
    },
    {
     "data": {
      "text/html": [
       "<pre style=\"white-space:pre;overflow-x:auto;line-height:normal;font-family:Menlo,'DejaVu Sans Mono',consolas,'Courier New',monospace\"><span style=\"font-weight: bold\"> Total params: </span><span style=\"color: #00af00; text-decoration-color: #00af00\">223,744</span> (874.00 KB)\n",
       "</pre>\n"
      ],
      "text/plain": [
       "\u001b[1m Total params: \u001b[0m\u001b[38;5;34m223,744\u001b[0m (874.00 KB)\n"
      ]
     },
     "metadata": {},
     "output_type": "display_data"
    },
    {
     "data": {
      "text/html": [
       "<pre style=\"white-space:pre;overflow-x:auto;line-height:normal;font-family:Menlo,'DejaVu Sans Mono',consolas,'Courier New',monospace\"><span style=\"font-weight: bold\"> Trainable params: </span><span style=\"color: #00af00; text-decoration-color: #00af00\">223,744</span> (874.00 KB)\n",
       "</pre>\n"
      ],
      "text/plain": [
       "\u001b[1m Trainable params: \u001b[0m\u001b[38;5;34m223,744\u001b[0m (874.00 KB)\n"
      ]
     },
     "metadata": {},
     "output_type": "display_data"
    },
    {
     "data": {
      "text/html": [
       "<pre style=\"white-space:pre;overflow-x:auto;line-height:normal;font-family:Menlo,'DejaVu Sans Mono',consolas,'Courier New',monospace\"><span style=\"font-weight: bold\"> Non-trainable params: </span><span style=\"color: #00af00; text-decoration-color: #00af00\">0</span> (0.00 B)\n",
       "</pre>\n"
      ],
      "text/plain": [
       "\u001b[1m Non-trainable params: \u001b[0m\u001b[38;5;34m0\u001b[0m (0.00 B)\n"
      ]
     },
     "metadata": {},
     "output_type": "display_data"
    },
    {
     "data": {
      "text/html": [
       "<pre style=\"white-space:pre;overflow-x:auto;line-height:normal;font-family:Menlo,'DejaVu Sans Mono',consolas,'Courier New',monospace\"><span style=\"font-weight: bold\">Model: \"siamese_network\"</span>\n",
       "</pre>\n"
      ],
      "text/plain": [
       "\u001b[1mModel: \"siamese_network\"\u001b[0m\n"
      ]
     },
     "metadata": {},
     "output_type": "display_data"
    },
    {
     "data": {
      "text/html": [
       "<pre style=\"white-space:pre;overflow-x:auto;line-height:normal;font-family:Menlo,'DejaVu Sans Mono',consolas,'Courier New',monospace\">┏━━━━━━━━━━━━━━━━━━━━━┳━━━━━━━━━━━━━━━━━━━┳━━━━━━━━━━━━┳━━━━━━━━━━━━━━━━━━━┓\n",
       "┃<span style=\"font-weight: bold\"> Layer (type)        </span>┃<span style=\"font-weight: bold\"> Output Shape      </span>┃<span style=\"font-weight: bold\">    Param # </span>┃<span style=\"font-weight: bold\"> Connected to      </span>┃\n",
       "┡━━━━━━━━━━━━━━━━━━━━━╇━━━━━━━━━━━━━━━━━━━╇━━━━━━━━━━━━╇━━━━━━━━━━━━━━━━━━━┩\n",
       "│ input_a             │ (<span style=\"color: #00d7ff; text-decoration-color: #00d7ff\">None</span>, <span style=\"color: #00af00; text-decoration-color: #00af00\">28</span>, <span style=\"color: #00af00; text-decoration-color: #00af00\">28</span>, <span style=\"color: #00af00; text-decoration-color: #00af00\">1</span>) │          <span style=\"color: #00af00; text-decoration-color: #00af00\">0</span> │ -                 │\n",
       "│ (<span style=\"color: #0087ff; text-decoration-color: #0087ff\">InputLayer</span>)        │                   │            │                   │\n",
       "├─────────────────────┼───────────────────┼────────────┼───────────────────┤\n",
       "│ input_b             │ (<span style=\"color: #00d7ff; text-decoration-color: #00d7ff\">None</span>, <span style=\"color: #00af00; text-decoration-color: #00af00\">28</span>, <span style=\"color: #00af00; text-decoration-color: #00af00\">28</span>, <span style=\"color: #00af00; text-decoration-color: #00af00\">1</span>) │          <span style=\"color: #00af00; text-decoration-color: #00af00\">0</span> │ -                 │\n",
       "│ (<span style=\"color: #0087ff; text-decoration-color: #0087ff\">InputLayer</span>)        │                   │            │                   │\n",
       "├─────────────────────┼───────────────────┼────────────┼───────────────────┤\n",
       "│ base_network        │ (<span style=\"color: #00d7ff; text-decoration-color: #00d7ff\">None</span>, <span style=\"color: #00af00; text-decoration-color: #00af00\">128</span>)       │    <span style=\"color: #00af00; text-decoration-color: #00af00\">223,744</span> │ input_a[<span style=\"color: #00af00; text-decoration-color: #00af00\">0</span>][<span style=\"color: #00af00; text-decoration-color: #00af00\">0</span>],    │\n",
       "│ (<span style=\"color: #0087ff; text-decoration-color: #0087ff\">Functional</span>)        │                   │            │ input_b[<span style=\"color: #00af00; text-decoration-color: #00af00\">0</span>][<span style=\"color: #00af00; text-decoration-color: #00af00\">0</span>]     │\n",
       "├─────────────────────┼───────────────────┼────────────┼───────────────────┤\n",
       "│ cosine_similarity   │ (<span style=\"color: #00d7ff; text-decoration-color: #00d7ff\">None</span>, <span style=\"color: #00af00; text-decoration-color: #00af00\">1</span>)         │          <span style=\"color: #00af00; text-decoration-color: #00af00\">0</span> │ base_network[<span style=\"color: #00af00; text-decoration-color: #00af00\">0</span>][<span style=\"color: #00af00; text-decoration-color: #00af00\">…</span> │\n",
       "│ (<span style=\"color: #0087ff; text-decoration-color: #0087ff\">Dot</span>)               │                   │            │ base_network[<span style=\"color: #00af00; text-decoration-color: #00af00\">1</span>][<span style=\"color: #00af00; text-decoration-color: #00af00\">…</span> │\n",
       "├─────────────────────┼───────────────────┼────────────┼───────────────────┤\n",
       "│ similarity (<span style=\"color: #0087ff; text-decoration-color: #0087ff\">Lambda</span>) │ (<span style=\"color: #00d7ff; text-decoration-color: #00d7ff\">None</span>, <span style=\"color: #00af00; text-decoration-color: #00af00\">1</span>)         │          <span style=\"color: #00af00; text-decoration-color: #00af00\">0</span> │ cosine_similarit… │\n",
       "└─────────────────────┴───────────────────┴────────────┴───────────────────┘\n",
       "</pre>\n"
      ],
      "text/plain": [
       "┏━━━━━━━━━━━━━━━━━━━━━┳━━━━━━━━━━━━━━━━━━━┳━━━━━━━━━━━━┳━━━━━━━━━━━━━━━━━━━┓\n",
       "┃\u001b[1m \u001b[0m\u001b[1mLayer (type)       \u001b[0m\u001b[1m \u001b[0m┃\u001b[1m \u001b[0m\u001b[1mOutput Shape     \u001b[0m\u001b[1m \u001b[0m┃\u001b[1m \u001b[0m\u001b[1m   Param #\u001b[0m\u001b[1m \u001b[0m┃\u001b[1m \u001b[0m\u001b[1mConnected to     \u001b[0m\u001b[1m \u001b[0m┃\n",
       "┡━━━━━━━━━━━━━━━━━━━━━╇━━━━━━━━━━━━━━━━━━━╇━━━━━━━━━━━━╇━━━━━━━━━━━━━━━━━━━┩\n",
       "│ input_a             │ (\u001b[38;5;45mNone\u001b[0m, \u001b[38;5;34m28\u001b[0m, \u001b[38;5;34m28\u001b[0m, \u001b[38;5;34m1\u001b[0m) │          \u001b[38;5;34m0\u001b[0m │ -                 │\n",
       "│ (\u001b[38;5;33mInputLayer\u001b[0m)        │                   │            │                   │\n",
       "├─────────────────────┼───────────────────┼────────────┼───────────────────┤\n",
       "│ input_b             │ (\u001b[38;5;45mNone\u001b[0m, \u001b[38;5;34m28\u001b[0m, \u001b[38;5;34m28\u001b[0m, \u001b[38;5;34m1\u001b[0m) │          \u001b[38;5;34m0\u001b[0m │ -                 │\n",
       "│ (\u001b[38;5;33mInputLayer\u001b[0m)        │                   │            │                   │\n",
       "├─────────────────────┼───────────────────┼────────────┼───────────────────┤\n",
       "│ base_network        │ (\u001b[38;5;45mNone\u001b[0m, \u001b[38;5;34m128\u001b[0m)       │    \u001b[38;5;34m223,744\u001b[0m │ input_a[\u001b[38;5;34m0\u001b[0m][\u001b[38;5;34m0\u001b[0m],    │\n",
       "│ (\u001b[38;5;33mFunctional\u001b[0m)        │                   │            │ input_b[\u001b[38;5;34m0\u001b[0m][\u001b[38;5;34m0\u001b[0m]     │\n",
       "├─────────────────────┼───────────────────┼────────────┼───────────────────┤\n",
       "│ cosine_similarity   │ (\u001b[38;5;45mNone\u001b[0m, \u001b[38;5;34m1\u001b[0m)         │          \u001b[38;5;34m0\u001b[0m │ base_network[\u001b[38;5;34m0\u001b[0m][\u001b[38;5;34m…\u001b[0m │\n",
       "│ (\u001b[38;5;33mDot\u001b[0m)               │                   │            │ base_network[\u001b[38;5;34m1\u001b[0m][\u001b[38;5;34m…\u001b[0m │\n",
       "├─────────────────────┼───────────────────┼────────────┼───────────────────┤\n",
       "│ similarity (\u001b[38;5;33mLambda\u001b[0m) │ (\u001b[38;5;45mNone\u001b[0m, \u001b[38;5;34m1\u001b[0m)         │          \u001b[38;5;34m0\u001b[0m │ cosine_similarit… │\n",
       "└─────────────────────┴───────────────────┴────────────┴───────────────────┘\n"
      ]
     },
     "metadata": {},
     "output_type": "display_data"
    },
    {
     "data": {
      "text/html": [
       "<pre style=\"white-space:pre;overflow-x:auto;line-height:normal;font-family:Menlo,'DejaVu Sans Mono',consolas,'Courier New',monospace\"><span style=\"font-weight: bold\"> Total params: </span><span style=\"color: #00af00; text-decoration-color: #00af00\">223,744</span> (874.00 KB)\n",
       "</pre>\n"
      ],
      "text/plain": [
       "\u001b[1m Total params: \u001b[0m\u001b[38;5;34m223,744\u001b[0m (874.00 KB)\n"
      ]
     },
     "metadata": {},
     "output_type": "display_data"
    },
    {
     "data": {
      "text/html": [
       "<pre style=\"white-space:pre;overflow-x:auto;line-height:normal;font-family:Menlo,'DejaVu Sans Mono',consolas,'Courier New',monospace\"><span style=\"font-weight: bold\"> Trainable params: </span><span style=\"color: #00af00; text-decoration-color: #00af00\">223,744</span> (874.00 KB)\n",
       "</pre>\n"
      ],
      "text/plain": [
       "\u001b[1m Trainable params: \u001b[0m\u001b[38;5;34m223,744\u001b[0m (874.00 KB)\n"
      ]
     },
     "metadata": {},
     "output_type": "display_data"
    },
    {
     "data": {
      "text/html": [
       "<pre style=\"white-space:pre;overflow-x:auto;line-height:normal;font-family:Menlo,'DejaVu Sans Mono',consolas,'Courier New',monospace\"><span style=\"font-weight: bold\"> Non-trainable params: </span><span style=\"color: #00af00; text-decoration-color: #00af00\">0</span> (0.00 B)\n",
       "</pre>\n"
      ],
      "text/plain": [
       "\u001b[1m Non-trainable params: \u001b[0m\u001b[38;5;34m0\u001b[0m (0.00 B)\n"
      ]
     },
     "metadata": {},
     "output_type": "display_data"
    }
   ],
   "source": [
    "\n",
    "# 2. Crear la red siamesa usando Keras y TensorFlow\n",
    "def create_base_network(input_shape):\n",
    "    \"\"\"\n",
    "    Red base simple (CNN) que produce un embedding de 128 dimensiones y lo normaliza (para que\n",
    "    la similitud de coseno se calcule como producto punto).\n",
    "    \"\"\"\n",
    "    inputs = keras.Input(shape=input_shape)\n",
    "    x = layers.Conv2D(32, (3,3), activation='relu', name='conv1')(inputs)\n",
    "    x = layers.MaxPooling2D(pool_size=(2,2))(x)\n",
    "    x = layers.Conv2D(64, (3,3), activation='relu', name='conv2')(x)\n",
    "    x = layers.MaxPooling2D(pool_size=(2,2))(x)\n",
    "    # Conservamos la salida de 'conv2' para Grad-CAM\n",
    "    x = layers.Flatten()(x)\n",
    "    x = layers.Dense(128, activation='relu')(x)\n",
    "    # Normalización L2 para que el coseno se calcule como producto punto\n",
    "    outputs = layers.Lambda(lambda t: tf.math.l2_normalize(t, axis=1), name='embeddings')(x)\n",
    "    return keras.Model(inputs, outputs, name=\"base_network\")\n",
    "\n",
    "input_shape = (28, 28, 1)\n",
    "base_network = create_base_network(input_shape)\n",
    "\n",
    "# Construir la arquitectura siamesa:\n",
    "input_a = keras.Input(shape=input_shape, name=\"input_a\")\n",
    "input_b = keras.Input(shape=input_shape, name=\"input_b\")\n",
    "\n",
    "# Extraer embeddings de cada imagen\n",
    "processed_a = base_network(input_a)\n",
    "processed_b = base_network(input_b)\n",
    "\n",
    "# Calcular similitud de coseno: si los embeddings están normalizados, el producto punto equivale a la similitud de coseno.\n",
    "cosine_sim = layers.Dot(axes=1, normalize=True, name=\"cosine_similarity\")([processed_a, processed_b])\n",
    "# Escalar de [-1,1] a [0,1]\n",
    "output = layers.Lambda(lambda x: (x + 1) / 2, name=\"similarity\")(cosine_sim)\n",
    "\n",
    "siamese_model = keras.Model([input_a, input_b], output, name=\"siamese_network\")\n",
    "base_network.summary()\n",
    "siamese_model.summary()"
   ]
  },
  {
   "cell_type": "markdown",
   "metadata": {},
   "source": [
    "## Imprimir el modelo "
   ]
  },
  {
   "cell_type": "code",
   "execution_count": null,
   "metadata": {},
   "outputs": [
    {
     "name": "stdout",
     "output_type": "stream",
     "text": [
      "You must install graphviz (see instructions at https://graphviz.gitlab.io/download/) for `plot_model` to work.\n"
     ]
    }
   ],
   "source": [
    "# Generar la imagen de la arquitectura del modelo\n",
    "plot_model(siamese_model, to_file='siamese_model.png', show_shapes=True, show_layer_names=True)\n",
    "\n",
    "# Mostrar la imagen inline en Jupyter Notebook\n",
    "display(Image(filename='siamese_model.png'))"
   ]
  },
  {
   "cell_type": "markdown",
   "metadata": {},
   "source": [
    "## Modelo linea base"
   ]
  },
  {
   "cell_type": "code",
   "execution_count": 5,
   "metadata": {},
   "outputs": [
    {
     "name": "stdout",
     "output_type": "stream",
     "text": [
      "Epoch 1/5\n"
     ]
    },
    {
     "name": "stderr",
     "output_type": "stream",
     "text": [
      "2025-03-14 00:43:09.898164: I tensorflow/core/grappler/optimizers/custom_graph_optimizer_registry.cc:117] Plugin optimizer for device_type GPU is enabled.\n"
     ]
    },
    {
     "name": "stdout",
     "output_type": "stream",
     "text": [
      "\u001b[1m847/847\u001b[0m \u001b[32m━━━━━━━━━━━━━━━━━━━━\u001b[0m\u001b[37m\u001b[0m \u001b[1m18s\u001b[0m 20ms/step - accuracy: 0.6458 - loss: 0.5941 - val_accuracy: 0.7351 - val_loss: 0.4788\n",
      "Epoch 2/5\n",
      "\u001b[1m847/847\u001b[0m \u001b[32m━━━━━━━━━━━━━━━━━━━━\u001b[0m\u001b[37m\u001b[0m \u001b[1m17s\u001b[0m 20ms/step - accuracy: 0.7428 - loss: 0.4804 - val_accuracy: 0.7561 - val_loss: 0.4592\n",
      "Epoch 3/5\n",
      "\u001b[1m847/847\u001b[0m \u001b[32m━━━━━━━━━━━━━━━━━━━━\u001b[0m\u001b[37m\u001b[0m \u001b[1m16s\u001b[0m 19ms/step - accuracy: 0.7547 - loss: 0.4687 - val_accuracy: 0.7629 - val_loss: 0.4522\n",
      "Epoch 4/5\n",
      "\u001b[1m847/847\u001b[0m \u001b[32m━━━━━━━━━━━━━━━━━━━━\u001b[0m\u001b[37m\u001b[0m \u001b[1m16s\u001b[0m 19ms/step - accuracy: 0.7589 - loss: 0.4620 - val_accuracy: 0.7677 - val_loss: 0.4488\n",
      "Epoch 5/5\n",
      "\u001b[1m847/847\u001b[0m \u001b[32m━━━━━━━━━━━━━━━━━━━━\u001b[0m\u001b[37m\u001b[0m \u001b[1m17s\u001b[0m 20ms/step - accuracy: 0.7618 - loss: 0.4593 - val_accuracy: 0.7655 - val_loss: 0.4496\n",
      "\u001b[1m557/557\u001b[0m \u001b[32m━━━━━━━━━━━━━━━━━━━━\u001b[0m\u001b[37m\u001b[0m \u001b[1m3s\u001b[0m 5ms/step - accuracy: 0.7747 - loss: 0.4187\n",
      "Test loss: 0.4495899975299835 Test accuracy: 0.7655443549156189\n"
     ]
    }
   ],
   "source": [
    "# 3. Compilar y entrenar el modelo\n",
    "siamese_model.compile(optimizer=\"adam\",\n",
    "                      loss=\"binary_crossentropy\",\n",
    "                      metrics=[\"accuracy\"])\n",
    "\n",
    "# Entrenar el modelo (para demostración usamos pocas épocas)\n",
    "history = siamese_model.fit([train_pairs[:, 0], train_pairs[:, 1]], train_labels,\n",
    "                            batch_size=128,\n",
    "                            epochs=5,\n",
    "                            validation_data=([test_pairs[:, 0], test_pairs[:, 1]], test_labels))\n",
    "\n",
    "# Evaluar en el conjunto de test\n",
    "test_loss, test_acc = siamese_model.evaluate([test_pairs[:, 0], test_pairs[:, 1]], test_labels)\n",
    "print(\"Test loss:\", test_loss, \"Test accuracy:\", test_acc)"
   ]
  },
  {
   "cell_type": "markdown",
   "metadata": {},
   "source": [
    "## Modelo con callbacks"
   ]
  },
  {
   "cell_type": "code",
   "execution_count": 15,
   "metadata": {},
   "outputs": [
    {
     "name": "stdout",
     "output_type": "stream",
     "text": [
      "Epoch 1/50\n",
      "\u001b[1m847/847\u001b[0m \u001b[32m━━━━━━━━━━━━━━━━━━━━\u001b[0m\u001b[37m\u001b[0m \u001b[1m18s\u001b[0m 20ms/step - accuracy: 0.7687 - loss: 0.4513 - val_accuracy: 0.7680 - val_loss: 0.4455\n",
      "Epoch 2/50\n",
      "\u001b[1m847/847\u001b[0m \u001b[32m━━━━━━━━━━━━━━━━━━━━\u001b[0m\u001b[37m\u001b[0m \u001b[1m17s\u001b[0m 20ms/step - accuracy: 0.7702 - loss: 0.4501 - val_accuracy: 0.7660 - val_loss: 0.4475\n",
      "Epoch 3/50\n",
      "\u001b[1m847/847\u001b[0m \u001b[32m━━━━━━━━━━━━━━━━━━━━\u001b[0m\u001b[37m\u001b[0m \u001b[1m17s\u001b[0m 20ms/step - accuracy: 0.7650 - loss: 0.4570 - val_accuracy: 0.7697 - val_loss: 0.4443\n",
      "Epoch 4/50\n",
      "\u001b[1m847/847\u001b[0m \u001b[32m━━━━━━━━━━━━━━━━━━━━\u001b[0m\u001b[37m\u001b[0m \u001b[1m17s\u001b[0m 20ms/step - accuracy: 0.7662 - loss: 0.4558 - val_accuracy: 0.7681 - val_loss: 0.4465\n",
      "Epoch 5/50\n",
      "\u001b[1m847/847\u001b[0m \u001b[32m━━━━━━━━━━━━━━━━━━━━\u001b[0m\u001b[37m\u001b[0m \u001b[1m17s\u001b[0m 20ms/step - accuracy: 0.7670 - loss: 0.4549 - val_accuracy: 0.7656 - val_loss: 0.4504\n",
      "Epoch 6/50\n",
      "\u001b[1m847/847\u001b[0m \u001b[32m━━━━━━━━━━━━━━━━━━━━\u001b[0m\u001b[37m\u001b[0m \u001b[1m16s\u001b[0m 19ms/step - accuracy: 0.7643 - loss: 0.4584 - val_accuracy: 0.7685 - val_loss: 0.4479\n",
      "Epoch 7/50\n",
      "\u001b[1m847/847\u001b[0m \u001b[32m━━━━━━━━━━━━━━━━━━━━\u001b[0m\u001b[37m\u001b[0m \u001b[1m17s\u001b[0m 20ms/step - accuracy: 0.7617 - loss: 0.4596 - val_accuracy: 0.7649 - val_loss: 0.4491\n",
      "Epoch 8/50\n",
      "\u001b[1m847/847\u001b[0m \u001b[32m━━━━━━━━━━━━━━━━━━━━\u001b[0m\u001b[37m\u001b[0m \u001b[1m16s\u001b[0m 19ms/step - accuracy: 0.7640 - loss: 0.4578 - val_accuracy: 0.7678 - val_loss: 0.4487\n",
      "Epoch 9/50\n",
      "\u001b[1m847/847\u001b[0m \u001b[32m━━━━━━━━━━━━━━━━━━━━\u001b[0m\u001b[37m\u001b[0m \u001b[1m16s\u001b[0m 19ms/step - accuracy: 0.7643 - loss: 0.4575 - val_accuracy: 0.7637 - val_loss: 0.4508\n",
      "Epoch 10/50\n",
      "\u001b[1m847/847\u001b[0m \u001b[32m━━━━━━━━━━━━━━━━━━━━\u001b[0m\u001b[37m\u001b[0m \u001b[1m16s\u001b[0m 19ms/step - accuracy: 0.7640 - loss: 0.4586 - val_accuracy: 0.7659 - val_loss: 0.4488\n",
      "Epoch 11/50\n",
      "\u001b[1m847/847\u001b[0m \u001b[32m━━━━━━━━━━━━━━━━━━━━\u001b[0m\u001b[37m\u001b[0m \u001b[1m16s\u001b[0m 19ms/step - accuracy: 0.7621 - loss: 0.4598 - val_accuracy: 0.7671 - val_loss: 0.4489\n",
      "Epoch 12/50\n",
      "\u001b[1m847/847\u001b[0m \u001b[32m━━━━━━━━━━━━━━━━━━━━\u001b[0m\u001b[37m\u001b[0m \u001b[1m16s\u001b[0m 19ms/step - accuracy: 0.7664 - loss: 0.4559 - val_accuracy: 0.7668 - val_loss: 0.4499\n",
      "Epoch 13/50\n",
      "\u001b[1m847/847\u001b[0m \u001b[32m━━━━━━━━━━━━━━━━━━━━\u001b[0m\u001b[37m\u001b[0m \u001b[1m16s\u001b[0m 19ms/step - accuracy: 0.7647 - loss: 0.4582 - val_accuracy: 0.7680 - val_loss: 0.4484\n",
      "Epoch 14/50\n",
      "\u001b[1m847/847\u001b[0m \u001b[32m━━━━━━━━━━━━━━━━━━━━\u001b[0m\u001b[37m\u001b[0m \u001b[1m17s\u001b[0m 20ms/step - accuracy: 0.7633 - loss: 0.4600 - val_accuracy: 0.7664 - val_loss: 0.4501\n",
      "Epoch 15/50\n",
      "\u001b[1m847/847\u001b[0m \u001b[32m━━━━━━━━━━━━━━━━━━━━\u001b[0m\u001b[37m\u001b[0m \u001b[1m17s\u001b[0m 20ms/step - accuracy: 0.7627 - loss: 0.4604 - val_accuracy: 0.7644 - val_loss: 0.4513\n",
      "Epoch 16/50\n",
      "\u001b[1m847/847\u001b[0m \u001b[32m━━━━━━━━━━━━━━━━━━━━\u001b[0m\u001b[37m\u001b[0m \u001b[1m17s\u001b[0m 20ms/step - accuracy: 0.7637 - loss: 0.4597 - val_accuracy: 0.7673 - val_loss: 0.4490\n",
      "Epoch 17/50\n",
      "\u001b[1m847/847\u001b[0m \u001b[32m━━━━━━━━━━━━━━━━━━━━\u001b[0m\u001b[37m\u001b[0m \u001b[1m17s\u001b[0m 20ms/step - accuracy: 0.7658 - loss: 0.4580 - val_accuracy: 0.7661 - val_loss: 0.4499\n",
      "Epoch 18/50\n",
      "\u001b[1m847/847\u001b[0m \u001b[32m━━━━━━━━━━━━━━━━━━━━\u001b[0m\u001b[37m\u001b[0m \u001b[1m17s\u001b[0m 20ms/step - accuracy: 0.7643 - loss: 0.4588 - val_accuracy: 0.7627 - val_loss: 0.4516\n",
      "Epoch 19/50\n",
      "\u001b[1m847/847\u001b[0m \u001b[32m━━━━━━━━━━━━━━━━━━━━\u001b[0m\u001b[37m\u001b[0m \u001b[1m17s\u001b[0m 20ms/step - accuracy: 0.7643 - loss: 0.4579 - val_accuracy: 0.7666 - val_loss: 0.4502\n",
      "Epoch 20/50\n",
      "\u001b[1m847/847\u001b[0m \u001b[32m━━━━━━━━━━━━━━━━━━━━\u001b[0m\u001b[37m\u001b[0m \u001b[1m17s\u001b[0m 20ms/step - accuracy: 0.7627 - loss: 0.4602 - val_accuracy: 0.7661 - val_loss: 0.4499\n",
      "Epoch 21/50\n",
      "\u001b[1m847/847\u001b[0m \u001b[32m━━━━━━━━━━━━━━━━━━━━\u001b[0m\u001b[37m\u001b[0m \u001b[1m17s\u001b[0m 20ms/step - accuracy: 0.7630 - loss: 0.4586 - val_accuracy: 0.7651 - val_loss: 0.4494\n",
      "Epoch 22/50\n",
      "\u001b[1m847/847\u001b[0m \u001b[32m━━━━━━━━━━━━━━━━━━━━\u001b[0m\u001b[37m\u001b[0m \u001b[1m17s\u001b[0m 20ms/step - accuracy: 0.7641 - loss: 0.4589 - val_accuracy: 0.7658 - val_loss: 0.4505\n",
      "Epoch 23/50\n",
      "\u001b[1m847/847\u001b[0m \u001b[32m━━━━━━━━━━━━━━━━━━━━\u001b[0m\u001b[37m\u001b[0m \u001b[1m18s\u001b[0m 21ms/step - accuracy: 0.7616 - loss: 0.4594 - val_accuracy: 0.7673 - val_loss: 0.4494\n",
      "Epoch 24/50\n",
      "\u001b[1m847/847\u001b[0m \u001b[32m━━━━━━━━━━━━━━━━━━━━\u001b[0m\u001b[37m\u001b[0m \u001b[1m17s\u001b[0m 20ms/step - accuracy: 0.7628 - loss: 0.4591 - val_accuracy: 0.7644 - val_loss: 0.4513\n",
      "Epoch 25/50\n",
      "\u001b[1m847/847\u001b[0m \u001b[32m━━━━━━━━━━━━━━━━━━━━\u001b[0m\u001b[37m\u001b[0m \u001b[1m17s\u001b[0m 20ms/step - accuracy: 0.7642 - loss: 0.4578 - val_accuracy: 0.7651 - val_loss: 0.4507\n",
      "Epoch 26/50\n",
      "\u001b[1m847/847\u001b[0m \u001b[32m━━━━━━━━━━━━━━━━━━━━\u001b[0m\u001b[37m\u001b[0m \u001b[1m17s\u001b[0m 20ms/step - accuracy: 0.7629 - loss: 0.4603 - val_accuracy: 0.7648 - val_loss: 0.4507\n",
      "Epoch 27/50\n",
      "\u001b[1m847/847\u001b[0m \u001b[32m━━━━━━━━━━━━━━━━━━━━\u001b[0m\u001b[37m\u001b[0m \u001b[1m17s\u001b[0m 20ms/step - accuracy: 0.7628 - loss: 0.4611 - val_accuracy: 0.7644 - val_loss: 0.4513\n",
      "Epoch 28/50\n",
      "\u001b[1m847/847\u001b[0m \u001b[32m━━━━━━━━━━━━━━━━━━━━\u001b[0m\u001b[37m\u001b[0m \u001b[1m17s\u001b[0m 20ms/step - accuracy: 0.7634 - loss: 0.4599 - val_accuracy: 0.7646 - val_loss: 0.4507\n",
      "Epoch 29/50\n",
      "\u001b[1m847/847\u001b[0m \u001b[32m━━━━━━━━━━━━━━━━━━━━\u001b[0m\u001b[37m\u001b[0m \u001b[1m16s\u001b[0m 19ms/step - accuracy: 0.7638 - loss: 0.4594 - val_accuracy: 0.7656 - val_loss: 0.4509\n",
      "Epoch 30/50\n",
      "\u001b[1m847/847\u001b[0m \u001b[32m━━━━━━━━━━━━━━━━━━━━\u001b[0m\u001b[37m\u001b[0m \u001b[1m16s\u001b[0m 19ms/step - accuracy: 0.7611 - loss: 0.4610 - val_accuracy: 0.7643 - val_loss: 0.4513\n",
      "Epoch 31/50\n",
      "\u001b[1m847/847\u001b[0m \u001b[32m━━━━━━━━━━━━━━━━━━━━\u001b[0m\u001b[37m\u001b[0m \u001b[1m17s\u001b[0m 20ms/step - accuracy: 0.7641 - loss: 0.4567 - val_accuracy: 0.7673 - val_loss: 0.4500\n",
      "Epoch 32/50\n",
      "\u001b[1m847/847\u001b[0m \u001b[32m━━━━━━━━━━━━━━━━━━━━\u001b[0m\u001b[37m\u001b[0m \u001b[1m17s\u001b[0m 20ms/step - accuracy: 0.7638 - loss: 0.4590 - val_accuracy: 0.7635 - val_loss: 0.4516\n",
      "Epoch 33/50\n",
      "\u001b[1m847/847\u001b[0m \u001b[32m━━━━━━━━━━━━━━━━━━━━\u001b[0m\u001b[37m\u001b[0m \u001b[1m17s\u001b[0m 20ms/step - accuracy: 0.7643 - loss: 0.4586 - val_accuracy: 0.7642 - val_loss: 0.4511\n",
      "Epoch 34/50\n",
      "\u001b[1m847/847\u001b[0m \u001b[32m━━━━━━━━━━━━━━━━━━━━\u001b[0m\u001b[37m\u001b[0m \u001b[1m17s\u001b[0m 20ms/step - accuracy: 0.7639 - loss: 0.4603 - val_accuracy: 0.7646 - val_loss: 0.4513\n",
      "Epoch 35/50\n",
      "\u001b[1m847/847\u001b[0m \u001b[32m━━━━━━━━━━━━━━━━━━━━\u001b[0m\u001b[37m\u001b[0m \u001b[1m17s\u001b[0m 20ms/step - accuracy: 0.7613 - loss: 0.4618 - val_accuracy: 0.7647 - val_loss: 0.4512\n",
      "Epoch 36/50\n",
      "\u001b[1m847/847\u001b[0m \u001b[32m━━━━━━━━━━━━━━━━━━━━\u001b[0m\u001b[37m\u001b[0m \u001b[1m17s\u001b[0m 20ms/step - accuracy: 0.7639 - loss: 0.4609 - val_accuracy: 0.7652 - val_loss: 0.4510\n",
      "Epoch 37/50\n",
      "\u001b[1m847/847\u001b[0m \u001b[32m━━━━━━━━━━━━━━━━━━━━\u001b[0m\u001b[37m\u001b[0m \u001b[1m17s\u001b[0m 20ms/step - accuracy: 0.7642 - loss: 0.4587 - val_accuracy: 0.7632 - val_loss: 0.4513\n",
      "Epoch 38/50\n",
      "\u001b[1m847/847\u001b[0m \u001b[32m━━━━━━━━━━━━━━━━━━━━\u001b[0m\u001b[37m\u001b[0m \u001b[1m16s\u001b[0m 19ms/step - accuracy: 0.7604 - loss: 0.4616 - val_accuracy: 0.7651 - val_loss: 0.4514\n",
      "Epoch 39/50\n",
      "\u001b[1m847/847\u001b[0m \u001b[32m━━━━━━━━━━━━━━━━━━━━\u001b[0m\u001b[37m\u001b[0m \u001b[1m17s\u001b[0m 20ms/step - accuracy: 0.7632 - loss: 0.4599 - val_accuracy: 0.7655 - val_loss: 0.4516\n",
      "Epoch 40/50\n",
      "\u001b[1m847/847\u001b[0m \u001b[32m━━━━━━━━━━━━━━━━━━━━\u001b[0m\u001b[37m\u001b[0m \u001b[1m18s\u001b[0m 21ms/step - accuracy: 0.7617 - loss: 0.4626 - val_accuracy: 0.7636 - val_loss: 0.4520\n",
      "Epoch 41/50\n",
      "\u001b[1m847/847\u001b[0m \u001b[32m━━━━━━━━━━━━━━━━━━━━\u001b[0m\u001b[37m\u001b[0m \u001b[1m20s\u001b[0m 23ms/step - accuracy: 0.7620 - loss: 0.4610 - val_accuracy: 0.7641 - val_loss: 0.4520\n",
      "Epoch 42/50\n",
      "\u001b[1m847/847\u001b[0m \u001b[32m━━━━━━━━━━━━━━━━━━━━\u001b[0m\u001b[37m\u001b[0m \u001b[1m22s\u001b[0m 26ms/step - accuracy: 0.7621 - loss: 0.4607 - val_accuracy: 0.7638 - val_loss: 0.4517\n",
      "Epoch 43/50\n",
      "\u001b[1m847/847\u001b[0m \u001b[32m━━━━━━━━━━━━━━━━━━━━\u001b[0m\u001b[37m\u001b[0m \u001b[1m23s\u001b[0m 27ms/step - accuracy: 0.7640 - loss: 0.4584 - val_accuracy: 0.7652 - val_loss: 0.4513\n",
      "Epoch 44/50\n",
      "\u001b[1m847/847\u001b[0m \u001b[32m━━━━━━━━━━━━━━━━━━━━\u001b[0m\u001b[37m\u001b[0m \u001b[1m22s\u001b[0m 26ms/step - accuracy: 0.7628 - loss: 0.4603 - val_accuracy: 0.7652 - val_loss: 0.4514\n",
      "Epoch 45/50\n",
      "\u001b[1m847/847\u001b[0m \u001b[32m━━━━━━━━━━━━━━━━━━━━\u001b[0m\u001b[37m\u001b[0m \u001b[1m21s\u001b[0m 25ms/step - accuracy: 0.7629 - loss: 0.4609 - val_accuracy: 0.7649 - val_loss: 0.4514\n",
      "Epoch 46/50\n",
      "\u001b[1m847/847\u001b[0m \u001b[32m━━━━━━━━━━━━━━━━━━━━\u001b[0m\u001b[37m\u001b[0m \u001b[1m22s\u001b[0m 26ms/step - accuracy: 0.7611 - loss: 0.4620 - val_accuracy: 0.7653 - val_loss: 0.4513\n",
      "Epoch 47/50\n",
      "\u001b[1m847/847\u001b[0m \u001b[32m━━━━━━━━━━━━━━━━━━━━\u001b[0m\u001b[37m\u001b[0m \u001b[1m22s\u001b[0m 25ms/step - accuracy: 0.7648 - loss: 0.4587 - val_accuracy: 0.7650 - val_loss: 0.4511\n",
      "Epoch 48/50\n",
      "\u001b[1m847/847\u001b[0m \u001b[32m━━━━━━━━━━━━━━━━━━━━\u001b[0m\u001b[37m\u001b[0m \u001b[1m20s\u001b[0m 24ms/step - accuracy: 0.7619 - loss: 0.4610 - val_accuracy: 0.7649 - val_loss: 0.4512\n",
      "Epoch 49/50\n",
      "\u001b[1m847/847\u001b[0m \u001b[32m━━━━━━━━━━━━━━━━━━━━\u001b[0m\u001b[37m\u001b[0m \u001b[1m21s\u001b[0m 25ms/step - accuracy: 0.7634 - loss: 0.4600 - val_accuracy: 0.7643 - val_loss: 0.4514\n",
      "Epoch 50/50\n",
      "\u001b[1m847/847\u001b[0m \u001b[32m━━━━━━━━━━━━━━━━━━━━\u001b[0m\u001b[37m\u001b[0m \u001b[1m22s\u001b[0m 26ms/step - accuracy: 0.7623 - loss: 0.4618 - val_accuracy: 0.7642 - val_loss: 0.4514\n",
      "\u001b[1m557/557\u001b[0m \u001b[32m━━━━━━━━━━━━━━━━━━━━\u001b[0m\u001b[37m\u001b[0m \u001b[1m3s\u001b[0m 6ms/step - accuracy: 0.7740 - loss: 0.4262\n",
      "Test loss: 0.45144298672676086 Test accuracy: 0.7641975283622742\n"
     ]
    }
   ],
   "source": [
    "# 3. Compilar y entrenar el modelo\n",
    "siamese_model.compile(optimizer=\"adam\",\n",
    "                      loss=\"binary_crossentropy\",\n",
    "                      metrics=[\"accuracy\"])\n",
    "\n",
    "# Callback para TensorBoard\n",
    "log_dir = \"logs/fit/\" + datetime.datetime.now().strftime(\"%Y%m%d-%H%M%S\")\n",
    "tensorboard_callback = tf.keras.callbacks.TensorBoard(log_dir=log_dir, histogram_freq=1, write_graph=True)\n",
    "\n",
    "# Callback para guardar el modelo con menor pérdida en validación\n",
    "checkpoint_callback = ModelCheckpoint(\n",
    "    filepath='checkpoints/model_epoch_{epoch:02d}_valLoss_{val_loss:.2f}.h5',\n",
    "    monitor='val_loss',\n",
    "    save_best_only=True,\n",
    "    mode='min',\n",
    "    verbose=1\n",
    ")\n",
    "\n",
    "# Entrenar el modelo (para demostración usamos pocas épocas)\n",
    "history = siamese_model.fit([train_pairs[:, 0], train_pairs[:, 1]], train_labels,\n",
    "                            batch_size=128,\n",
    "                            epochs=50,\n",
    "                            validation_data=([test_pairs[:, 0], test_pairs[:, 1]], test_labels),\n",
    "                            callbacks=[tensorboard_callback, checkpoint_callback])\n",
    "\n",
    "# Evaluar en el conjunto de test\n",
    "test_loss, test_acc = siamese_model.evaluate([test_pairs[:, 0], test_pairs[:, 1]], test_labels)\n",
    "print(\"Test loss:\", test_loss, \"Test accuracy:\", test_acc)\n",
    "\n"
   ]
  },
  {
   "cell_type": "markdown",
   "metadata": {},
   "source": [
    "## Realizando una segunda seleccion de hyper parametros de la red siamesa"
   ]
  },
  {
   "cell_type": "code",
   "execution_count": null,
   "metadata": {},
   "outputs": [
    {
     "name": "stdout",
     "output_type": "stream",
     "text": [
      "Epoch 1/30\n"
     ]
    },
    {
     "name": "stderr",
     "output_type": "stream",
     "text": [
      "2025-03-13 23:45:10.651987: I tensorflow/core/grappler/optimizers/custom_graph_optimizer_registry.cc:117] Plugin optimizer for device_type GPU is enabled.\n"
     ]
    },
    {
     "name": "stdout",
     "output_type": "stream",
     "text": [
      "\u001b[1m847/847\u001b[0m \u001b[32m━━━━━━━━━━━━━━━━━━━━\u001b[0m\u001b[37m\u001b[0m \u001b[1m18s\u001b[0m 20ms/step - accuracy: 0.6618 - loss: 0.5708 - val_accuracy: 0.7655 - val_loss: 0.4473 - learning_rate: 0.0010\n",
      "Epoch 2/30\n",
      "\u001b[1m847/847\u001b[0m \u001b[32m━━━━━━━━━━━━━━━━━━━━\u001b[0m\u001b[37m\u001b[0m \u001b[1m17s\u001b[0m 20ms/step - accuracy: 0.7634 - loss: 0.4546 - val_accuracy: 0.7732 - val_loss: 0.4393 - learning_rate: 0.0010\n",
      "Epoch 3/30\n",
      "\u001b[1m847/847\u001b[0m \u001b[32m━━━━━━━━━━━━━━━━━━━━\u001b[0m\u001b[37m\u001b[0m \u001b[1m17s\u001b[0m 20ms/step - accuracy: 0.7686 - loss: 0.4503 - val_accuracy: 0.7742 - val_loss: 0.4399 - learning_rate: 0.0010\n",
      "Epoch 4/30\n",
      "\u001b[1m847/847\u001b[0m \u001b[32m━━━━━━━━━━━━━━━━━━━━\u001b[0m\u001b[37m\u001b[0m \u001b[1m16s\u001b[0m 19ms/step - accuracy: 0.7666 - loss: 0.4524 - val_accuracy: 0.7751 - val_loss: 0.4389 - learning_rate: 0.0010\n",
      "Epoch 5/30\n",
      "\u001b[1m847/847\u001b[0m \u001b[32m━━━━━━━━━━━━━━━━━━━━\u001b[0m\u001b[37m\u001b[0m \u001b[1m16s\u001b[0m 19ms/step - accuracy: 0.7693 - loss: 0.4491 - val_accuracy: 0.7747 - val_loss: 0.4384 - learning_rate: 0.0010\n",
      "Epoch 6/30\n",
      "\u001b[1m847/847\u001b[0m \u001b[32m━━━━━━━━━━━━━━━━━━━━\u001b[0m\u001b[37m\u001b[0m \u001b[1m16s\u001b[0m 19ms/step - accuracy: 0.7689 - loss: 0.4510 - val_accuracy: 0.7724 - val_loss: 0.4415 - learning_rate: 0.0010\n",
      "Epoch 7/30\n",
      "\u001b[1m847/847\u001b[0m \u001b[32m━━━━━━━━━━━━━━━━━━━━\u001b[0m\u001b[37m\u001b[0m \u001b[1m18s\u001b[0m 21ms/step - accuracy: 0.7679 - loss: 0.4514 - val_accuracy: 0.7724 - val_loss: 0.4416 - learning_rate: 0.0010\n",
      "Epoch 8/30\n",
      "\u001b[1m847/847\u001b[0m \u001b[32m━━━━━━━━━━━━━━━━━━━━\u001b[0m\u001b[37m\u001b[0m \u001b[1m17s\u001b[0m 20ms/step - accuracy: 0.7699 - loss: 0.4495 - val_accuracy: 0.7708 - val_loss: 0.4426 - learning_rate: 5.0000e-04\n"
     ]
    }
   ],
   "source": [
    "# Definir callbacks\n",
    "early_stopping = EarlyStopping(monitor='val_loss', patience=3, restore_best_weights=True)\n",
    "reduce_lr = ReduceLROnPlateau(monitor='val_loss', factor=0.5, patience=2, min_lr=1e-6)\n",
    "\n",
    "# Compilar el modelo (podrías ajustar la tasa de aprendizaje en Adam si lo deseas)\n",
    "siamese_model.compile(optimizer=keras.optimizers.Adam(learning_rate=0.001),\n",
    "                      loss=\"binary_crossentropy\",\n",
    "                      metrics=[\"accuracy\"])\n",
    "\n",
    "# Entrenar el modelo con callbacks\n",
    "history2 = siamese_model.fit([train_pairs[:, 0], train_pairs[:, 1]], train_labels,\n",
    "                            batch_size=128,\n",
    "                            epochs=30,  # aumentar el número de epochs para dar tiempo a converger\n",
    "                            validation_data=([test_pairs[:, 0], test_pairs[:, 1]], test_labels),\n",
    "                            callbacks=[early_stopping, reduce_lr])"
   ]
  },
  {
   "cell_type": "markdown",
   "metadata": {},
   "source": [
    "## Con logueo de experimentos en MLFlow"
   ]
  },
  {
   "cell_type": "code",
   "execution_count": null,
   "metadata": {},
   "outputs": [],
   "source": [
    "import mlflow\n",
    "\n",
    "# Configurar MLflow para que guarde los experimentos en la carpeta especificada\n",
    "mlflow.set_tracking_uri(\"file:///Users/basaravia/Documents/deep_learning_projects/image-similarity/mlruns\")\n",
    "\n",
    "# Establecer el experimento (se creará o reutilizará el existente)\n",
    "mlflow.set_experiment(\"Siamese_MNIST_Experiment\")\n",
    "\n",
    "# Definir callbacks\n",
    "early_stopping = EarlyStopping(monitor='val_loss', patience=3, restore_best_weights=True)\n",
    "reduce_lr = ReduceLROnPlateau(monitor='val_loss', factor=0.5, patience=2, min_lr=1e-6)\n",
    "\n",
    "# Compilar el modelo (podrías ajustar la tasa de aprendizaje en Adam si lo deseas)\n",
    "siamese_model.compile(optimizer=keras.optimizers.Adam(learning_rate=0.001),\n",
    "                      loss=\"binary_crossentropy\",\n",
    "                      metrics=[\"accuracy\"])\n",
    "\n",
    "# Extraer configuración del modelo\n",
    "model_config = siamese_model.get_config()  # Devuelve un diccionario con la configuración de la arquitectura\n",
    "\n",
    "# Extraer información del optimizador\n",
    "optimizer = siamese_model.optimizer\n",
    "optimizer_name = optimizer.__class__.__name__\n",
    "optimizer_config = optimizer.get_config()  # Devuelve un diccionario con la configuración del optimizador\n",
    "\n",
    "# Extraer la función de pérdida\n",
    "loss_fn = siamese_model.loss\n",
    "# Si la función de pérdida es una función (o un objeto), intentamos obtener su nombre\n",
    "loss_name = loss_fn.__name__ if hasattr(loss_fn, '__name__') else str(loss_fn)\n",
    "\n",
    "# Ahora, registra esta información en MLflow\n",
    "import mlflow\n",
    "\n",
    "with mlflow.start_run():\n",
    "    # Registrar parámetros del modelo de forma dinámica\n",
    "    mlflow.log_param(\"optimizer_name\", optimizer_name)\n",
    "    mlflow.log_param(\"optimizer_config\", str(optimizer_config))\n",
    "    mlflow.log_param(\"loss_function\", loss_name)\n",
    "    \n",
    "    # Registrar la configuración del modelo (se recomienda formatearla para que sea legible)\n",
    "    mlflow.log_param(\"model_config\", str(model_config))\n",
    "    \n",
    "    # Aquí seguiría el proceso de entrenamiento, evaluación, etc.\n",
    "    history = siamese_model.fit(\n",
    "        [train_pairs[:, 0], train_pairs[:, 1]], train_labels,\n",
    "        batch_size=128,\n",
    "        epochs=30,\n",
    "        validation_data=([test_pairs[:, 0], test_pairs[:, 1]], test_labels),\n",
    "        callbacks=[early_stopping, reduce_lr, tensorboard_callback, checkpoint_callback]\n",
    "    )\n",
    "    \n",
    "    test_loss, test_acc = siamese_model.evaluate([test_pairs[:, 0], test_pairs[:, 1]], test_labels)\n",
    "    mlflow.log_metric(\"test_loss\", test_loss)\n",
    "    mlflow.log_metric(\"test_accuracy\", test_acc)\n",
    "    \n",
    "    # Guardar el modelo entrenado\n",
    "    model_path = \"siamese_model.h5\"\n",
    "    siamese_model.save(model_path)\n",
    "    mlflow.log_artifact(model_path)\n",
    "\n",
    "## Para ver el exprerimento en mlflow ejecutar en terminal:\n",
    "## mlflow ui --backend-store-uri file:///Users/basaravia/Documents/deep_learning_projects/image-similarity/mlruns\n",
    "## y luego abrir en el navegador http://localhost:5000"
   ]
  },
  {
   "cell_type": "markdown",
   "metadata": {},
   "source": [
    "## Impresion del historico de entrenamiento"
   ]
  },
  {
   "cell_type": "code",
   "execution_count": 8,
   "metadata": {},
   "outputs": [
    {
     "data": {
      "image/png": "[encoded data removed]",
      "text/plain": [
       "<Figure size 1500x500 with 2 Axes>"
      ]
     },
     "metadata": {},
     "output_type": "display_data"
    }
   ],
   "source": [
    "def plot_history(history):\n",
    "    # Graficar la pérdida\n",
    "    plt.figure(figsize=(15, 5))\n",
    "    plt.subplot(1, 3, 1)\n",
    "    plt.plot(history.history['loss'], label='Pérdida entrenamiento')\n",
    "    plt.plot(history.history['val_loss'], label='Pérdida validación')\n",
    "    plt.title('Curva de Pérdida')\n",
    "    plt.xlabel('Época')\n",
    "    plt.ylabel('Pérdida')\n",
    "    plt.legend()\n",
    "    \n",
    "    # Graficar la accuracy, si existe\n",
    "    if 'accuracy' in history.history:\n",
    "        plt.subplot(1, 3, 2)\n",
    "        plt.plot(history.history['accuracy'], label='Accuracy entrenamiento')\n",
    "        plt.plot(history.history['val_accuracy'], label='Accuracy validación')\n",
    "        plt.title('Curva de Accuracy')\n",
    "        plt.xlabel('Época')\n",
    "        plt.ylabel('Accuracy')\n",
    "        plt.legend()\n",
    "    # Suponiendo que guardaste la tasa de aprendizaje en un callback personalizado:\n",
    "    # Por ejemplo, un callback que guarde 'lr' en cada epoch en history.history['lr']\n",
    "\n",
    "    if 'lr' in history.history:\n",
    "        # plt.figure(figsize=(6, 5))\n",
    "        plt.subplot(1, 3, 3)\n",
    "        plt.plot(history.history['lr'], label='Learning Rate')\n",
    "        plt.title('Evolución del Learning Rate')\n",
    "        plt.xlabel('Época')\n",
    "        plt.ylabel('Learning Rate')\n",
    "        plt.legend()\n",
    "        plt.show()\n",
    "\n",
    "    plt.tight_layout()\n",
    "    plt.show()\n",
    "\n",
    "# Llamar a la función para graficar las curvas\n",
    "plot_history(history)"
   ]
  },
  {
   "cell_type": "markdown",
   "metadata": {},
   "source": [
    "## Explicabilidad Gradcam"
   ]
  },
  {
   "cell_type": "code",
   "execution_count": 11,
   "metadata": {},
   "outputs": [
    {
     "name": "stdout",
     "output_type": "stream",
     "text": [
      "\u001b[1m1/1\u001b[0m \u001b[32m━━━━━━━━━━━━━━━━━━━━\u001b[0m\u001b[37m\u001b[0m \u001b[1m0s\u001b[0m 50ms/step\n",
      "Similitud predicha: 0.9567785\n"
     ]
    },
    {
     "data": {
      "image/png": "[encoded data removed]",
      "text/plain": [
       "<Figure size 1200x400 with 2 Axes>"
      ]
     },
     "metadata": {},
     "output_type": "display_data"
    }
   ],
   "source": [
    "\n",
    "# 4. Función Grad-CAM para explicar la similitud en una de las ramas\n",
    "def make_gradcam_heatmap(img, paired_img, model_base, base_network, last_conv_layer_name=\"conv2\"):\n",
    "    \"\"\"\n",
    "    Genera un heatmap Grad-CAM para una imagen (img) en la rama 'input_a'\n",
    "    fijando la segunda imagen (paired_img). Se calcula la derivada del output de similitud\n",
    "    respecto a la salida de la capa convolucional 'last_conv_layer_name' en el modelo base.\n",
    "    \"\"\"\n",
    "    # Crear un modelo que devuelve las activaciones de la capa last_conv_layer y el embedding final\n",
    "    grad_model = keras.Model(\n",
    "        inputs=base_network.input,\n",
    "        outputs=[base_network.get_layer(last_conv_layer_name).output,\n",
    "                 base_network.get_layer(\"embeddings\").output]\n",
    "    )\n",
    "    # Expandir dimensiones: se espera un batch de 1\n",
    "    img = tf.expand_dims(img, axis=0)\n",
    "    paired_img = tf.expand_dims(paired_img, axis=0)\n",
    "    \n",
    "    # Obtener embedding de la segunda imagen (fijo)\n",
    "    emb_b = base_network(paired_img)\n",
    "    \n",
    "    with tf.GradientTape() as tape:\n",
    "        # Registra la activación de la imagen de interés\n",
    "        conv_outputs, emb_a = grad_model(img)\n",
    "        # La similitud de coseno se calcula como el producto punto (al estar normalizados)\n",
    "        cosine_sim = tf.reduce_sum(emb_a * emb_b, axis=1, keepdims=True)\n",
    "        similarity_score = (cosine_sim + 1) / 2  # escalar a [0,1]\n",
    "    # Gradiente de la similitud respecto a las activaciones de la capa convolucional\n",
    "    grads = tape.gradient(similarity_score, conv_outputs)\n",
    "    # Promediar gradientes en cada mapa (global average pooling)\n",
    "    pooled_grads = tf.reduce_mean(grads, axis=(0, 1, 2))\n",
    "    conv_outputs = conv_outputs[0]  # quitar dimensión batch\n",
    "    # Ponderar cada canal de la activación por su importancia\n",
    "    conv_outputs *= pooled_grads\n",
    "    # Sumar a lo largo de los canales para obtener el heatmap\n",
    "    heatmap = tf.reduce_sum(conv_outputs, axis=-1)\n",
    "    heatmap = tf.nn.relu(heatmap)\n",
    "    # Normalizar el heatmap entre 0 y 1\n",
    "    # heatmap = tf.maximum(heatmap, 0) / tf.reduce_max(heatmap)\n",
    "    heatmap = tf.divide(heatmap, tf.reduce_max(heatmap) + 1e-8)\n",
    "    return heatmap.numpy()\n",
    "\n",
    "# Seleccionar un par de imágenes del conjunto de test para visualizar\n",
    "idx = 120  # índice de ejemplo\n",
    "img_a = test_pairs[idx, 0]\n",
    "img_b = test_pairs[idx, 1]\n",
    "\n",
    "# Mostrar resultados: la imagen original, el heatmap y la superposición\n",
    "plt.figure(figsize=(12,4))\n",
    "plt.subplot(1,4,1)\n",
    "plt.imshow(img_a.squeeze(), cmap='gray')\n",
    "plt.title(\"Imagen A\")\n",
    "plt.axis(\"off\")\n",
    "\n",
    "plt.subplot(1,4,2)\n",
    "plt.imshow(img_b.squeeze(), cmap='gray')\n",
    "plt.title(\"Imagen B\")\n",
    "plt.axis(\"off\")\n",
    "\n",
    "# Calcular la similitud predicha\n",
    "pred_sim = siamese_model.predict([np.expand_dims(img_a, 0), np.expand_dims(img_b, 0)])[0,0]\n",
    "print(\"Similitud predicha:\", pred_sim)\n"
   ]
  },
  {
   "cell_type": "markdown",
   "metadata": {},
   "source": [
    "## Explicacion de Grad CAM\n",
    "\n",
    "Estas cuatro imágenes ilustran el resultado de aplicar Grad-CAM para entender qué partes de la Imagen A la red siamesa considera más relevantes al compararla con la Imagen B. \n",
    "\n",
    "En concreto:\n",
    "\n",
    "1.\tImagen A: Es la entrada principal que se está analizando.\n",
    "2.\tImagen B: La referencia con la cual se mide la similitud.\n",
    "3.\tHeatmap Grad-CAM: Muestra, con colores más cálidos (rojos/amarillos), las zonas de la Imagen A que más contribuyen al cálculo de similitud con la Imagen B. Los tonos fríos (azules) indican regiones con menor influencia en la decisión.\n",
    "4.\tSuperposición: Combina la Imagen A en escala de grises con el mapa de calor, evidenciando dónde el modelo “mira” para determinar si ambas imágenes representan dígitos similares."
   ]
  },
  {
   "cell_type": "code",
   "execution_count": 12,
   "metadata": {},
   "outputs": [
    {
     "data": {
      "image/png": "[encoded data removed]",
      "text/plain": [
       "<Figure size 1200x400 with 4 Axes>"
      ]
     },
     "metadata": {},
     "output_type": "display_data"
    }
   ],
   "source": [
    "\n",
    "# Generar heatmap de Grad-CAM para la primera imagen, fijando la segunda\n",
    "heatmap = make_gradcam_heatmap(img_a, img_b, siamese_model, base_network, last_conv_layer_name=\"conv2\")\n",
    "\n",
    "# Superponer el heatmap sobre la imagen original\n",
    "def superimpose_heatmap(img, heatmap, alpha=0.4, colormap=cv2.COLORMAP_JET):\n",
    "    # Reescala el heatmap a las dimensiones de la imagen y lo convierte a uint8 (0-255)\n",
    "    heatmap = cv2.resize(heatmap, (img.shape[1], img.shape[0]))\n",
    "    heatmap = np.uint8(255 * heatmap)\n",
    "    heatmap = cv2.applyColorMap(heatmap, colormap)\n",
    "    \n",
    "    # Convertir la imagen original a 3 canales y a uint8\n",
    "    img_rgb = np.repeat(img, 3, axis=-1)\n",
    "    # Si la imagen está en formato float32 (valores entre 0 y 1), se convierte a uint8 (0-255)\n",
    "    if img_rgb.dtype != np.uint8:\n",
    "        img_rgb = np.uint8(255 * img_rgb)\n",
    "    \n",
    "    # Superponer la imagen y el heatmap con la misma escala y tipo\n",
    "    superimposed_img = cv2.addWeighted(img_rgb, 1 - alpha, heatmap, alpha, 0)\n",
    "    return superimposed_img\n",
    "\n",
    "superimposed_img = superimpose_heatmap(img_a, heatmap)\n",
    "\n",
    "# Mostrar resultados: la imagen original, el heatmap y la superposición\n",
    "plt.figure(figsize=(12,4))\n",
    "plt.subplot(1,4,1)\n",
    "plt.imshow(img_a.squeeze(), cmap='gray')\n",
    "plt.title(\"Imagen A\")\n",
    "plt.axis(\"off\")\n",
    "\n",
    "plt.subplot(1,4,2)\n",
    "plt.imshow(img_b.squeeze(), cmap='gray')\n",
    "plt.title(\"Imagen B\")\n",
    "plt.axis(\"off\")\n",
    "\n",
    "plt.subplot(1,4,3)\n",
    "plt.imshow(heatmap, cmap='jet')\n",
    "plt.title(\"Heatmap Grad-CAM\")\n",
    "plt.axis(\"off\")\n",
    "\n",
    "plt.subplot(1,4,4)\n",
    "plt.imshow(superimposed_img)\n",
    "plt.title(\"Superposición\")\n",
    "plt.axis(\"off\")\n",
    "\n",
    "plt.show()"
   ]
  },
  {
   "cell_type": "code",
   "execution_count": null,
   "metadata": {},
   "outputs": [],
   "source": []
  }
 ],
 "metadata": {
  "kernelspec": {
   "display_name": "agentes-ia",
   "language": "python",
   "name": "python3"
  },
  "language_info": {
   "codemirror_mode": {
    "name": "ipython",
    "version": 3
   },
   "file_extension": ".py",
   "mimetype": "text/x-python",
   "name": "python",
   "nbconvert_exporter": "python",
   "pygments_lexer": "ipython3",
   "version": "3.10.16"
  }
 },
 "nbformat": 4,
 "nbformat_minor": 2
}
